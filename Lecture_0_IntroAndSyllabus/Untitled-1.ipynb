{
 "cells": [
  {
   "cell_type": "markdown",
   "id": "90476c32",
   "metadata": {},
   "source": [
    "This is my first Jupyter notebook"
   ]
  },
  {
   "cell_type": "code",
   "execution_count": null,
   "id": "511d2964",
   "metadata": {},
   "outputs": [],
   "source": [
    "print(“My name is Epherata Zeleke”)"
   ]
  }
 ],
 "metadata": {
  "language_info": {
   "name": "python"
  }
 },
 "nbformat": 4,
 "nbformat_minor": 5
}
